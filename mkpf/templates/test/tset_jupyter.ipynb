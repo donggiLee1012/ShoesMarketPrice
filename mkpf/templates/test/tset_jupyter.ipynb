{
 "cells": [
  {
   "cell_type": "code",
   "execution_count": 1,
   "metadata": {},
   "outputs": [],
   "source": [
    "from bs4 import BeautifulSoup\n",
    "from selenium import webdriver\n",
    "from selenium.webdriver.common.keys import Keys\n",
    "from selenium.webdriver.common.by import By"
   ]
  },
  {
   "cell_type": "code",
   "execution_count": 2,
   "metadata": {},
   "outputs": [],
   "source": [
    "import os"
   ]
  },
  {
   "cell_type": "code",
   "execution_count": 12,
   "metadata": {},
   "outputs": [],
   "source": [
    "path = os.path.join(os.path.dirname(os.path.dirname(os.getcwd())),'chromedriver.exe')"
   ]
  },
  {
   "cell_type": "markdown",
   "metadata": {},
   "source": [
    "options.addArguments(\"start-maximized\"); // open Browser in maximized mode\n",
    "options.addArguments(\"disable-infobars\"); // disabling infobars\n",
    "options.addArguments(\"--disable-extensions\"); // disabling extensions\n",
    "options.addArguments(\"--disable-gpu\"); // applicable to windows os only\n",
    "options.addArguments(\"--disable-dev-shm-usage\"); // overcome limited resource problems\n",
    "options.addArguments(\"--no-sandbox\"); // Bypass OS security model"
   ]
  },
  {
   "cell_type": "code",
   "execution_count": 17,
   "metadata": {},
   "outputs": [],
   "source": [
    "options = webdriver.ChromeOptions()\n",
    "options.add_argument('--headless')\n",
    "options.add_argument('--no-sandbox')\n",
    "options.add_argument('window-size=1920x1080')\n",
    "options.add_argument('--disable-dev-shm-usage')\n",
    "\n",
    "driver = webdriver.Chrome(executable_path=path, options=options)"
   ]
  },
  {
   "cell_type": "code",
   "execution_count": 18,
   "metadata": {},
   "outputs": [],
   "source": [
    "driver.get('https://www.xxblue.com/')\n",
    "\n",
    "driver.find_element_by_css_selector('.search-btn').click()\n",
    "\n",
    "search = driver.find_element_by_name('keyword')\n",
    "\n",
    "search.send_keys('덩크')\n",
    "\n",
    "search.send_keys(Keys.ENTER)\n",
    "\n",
    "driver.get_screenshot_as_file('where.png')\n",
    "\n",
    "driver.quit()"
   ]
  }
 ],
 "metadata": {
  "kernelspec": {
   "display_name": "Python 3",
   "language": "python",
   "name": "python3"
  },
  "language_info": {
   "codemirror_mode": {
    "name": "ipython",
    "version": 3
   },
   "file_extension": ".py",
   "mimetype": "text/x-python",
   "name": "python",
   "nbconvert_exporter": "python",
   "pygments_lexer": "ipython3",
   "version": "3.8.4"
  }
 },
 "nbformat": 4,
 "nbformat_minor": 4
}
